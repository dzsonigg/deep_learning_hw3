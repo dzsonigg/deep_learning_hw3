{
 "cells": [
  {
   "cell_type": "markdown",
   "metadata": {},
   "source": [
    "# Data import"
   ]
  },
  {
   "cell_type": "code",
   "execution_count": 1,
   "metadata": {},
   "outputs": [],
   "source": [
    "import pandas as pd\n",
    "import numpy as np\n",
    "import matplotlib.pyplot as plt"
   ]
  },
  {
   "cell_type": "code",
   "execution_count": 2,
   "metadata": {},
   "outputs": [],
   "source": [
    "# setting number of training days \n",
    "# we can set how many days can the NN \"see\"\n",
    "# i set it from 01.08.2020.\n",
    "# so the first value was measured on 01.08.2020., and the last on 26.10.2020.\n",
    "\n",
    "trd = 87"
   ]
  },
  {
   "cell_type": "code",
   "execution_count": 3,
   "metadata": {
    "scrolled": true
   },
   "outputs": [
    {
     "data": {
      "text/html": [
       "<div>\n",
       "<style scoped>\n",
       "    .dataframe tbody tr th:only-of-type {\n",
       "        vertical-align: middle;\n",
       "    }\n",
       "\n",
       "    .dataframe tbody tr th {\n",
       "        vertical-align: top;\n",
       "    }\n",
       "\n",
       "    .dataframe thead th {\n",
       "        text-align: right;\n",
       "    }\n",
       "</style>\n",
       "<table border=\"1\" class=\"dataframe\">\n",
       "  <thead>\n",
       "    <tr style=\"text-align: right;\">\n",
       "      <th></th>\n",
       "      <th>avg</th>\n",
       "    </tr>\n",
       "  </thead>\n",
       "  <tbody>\n",
       "    <tr>\n",
       "      <th>0</th>\n",
       "      <td>25.00</td>\n",
       "    </tr>\n",
       "    <tr>\n",
       "      <th>1</th>\n",
       "      <td>25.15</td>\n",
       "    </tr>\n",
       "    <tr>\n",
       "      <th>2</th>\n",
       "      <td>26.60</td>\n",
       "    </tr>\n",
       "    <tr>\n",
       "      <th>3</th>\n",
       "      <td>25.10</td>\n",
       "    </tr>\n",
       "    <tr>\n",
       "      <th>4</th>\n",
       "      <td>22.80</td>\n",
       "    </tr>\n",
       "    <tr>\n",
       "      <th>...</th>\n",
       "      <td>...</td>\n",
       "    </tr>\n",
       "    <tr>\n",
       "      <th>82</th>\n",
       "      <td>13.00</td>\n",
       "    </tr>\n",
       "    <tr>\n",
       "      <th>83</th>\n",
       "      <td>13.60</td>\n",
       "    </tr>\n",
       "    <tr>\n",
       "      <th>84</th>\n",
       "      <td>15.00</td>\n",
       "    </tr>\n",
       "    <tr>\n",
       "      <th>85</th>\n",
       "      <td>13.10</td>\n",
       "    </tr>\n",
       "    <tr>\n",
       "      <th>86</th>\n",
       "      <td>15.35</td>\n",
       "    </tr>\n",
       "  </tbody>\n",
       "</table>\n",
       "<p>87 rows × 1 columns</p>\n",
       "</div>"
      ],
      "text/plain": [
       "      avg\n",
       "0   25.00\n",
       "1   25.15\n",
       "2   26.60\n",
       "3   25.10\n",
       "4   22.80\n",
       "..    ...\n",
       "82  13.00\n",
       "83  13.60\n",
       "84  15.00\n",
       "85  13.10\n",
       "86  15.35\n",
       "\n",
       "[87 rows x 1 columns]"
      ]
     },
     "execution_count": 3,
     "metadata": {},
     "output_type": "execute_result"
    }
   ],
   "source": [
    "# data from http://idojarasbudapest.hu/archivalt-idojaras\n",
    "# I converted HTML code of the tables and created a database via http://www.convertcsv.com/newsite/html-table-to-csv.htm\n",
    "# I deleleted date,wind speed and precipitation amount\n",
    "data = pd.read_excel('temperature_data.xlsx')\n",
    "\n",
    "#computing the avg. temperature\n",
    "data['avg'] = (data['max']+data[\"min\"])/2\n",
    "data = data.drop('min',1)\n",
    "data = data.drop('max',1)\n",
    "data = data.iloc[len(data)-trd:]\n",
    "data = data.reset_index(drop=True)\n",
    "data\n",
    "\n",
    "# 0th index is 1st of august\n",
    "# 86th index is 26th of october"
   ]
  },
  {
   "cell_type": "code",
   "execution_count": 4,
   "metadata": {},
   "outputs": [],
   "source": [
    "# creating the np array X\n",
    "lp \t= np.linspace(0,trd-1,trd)\n",
    "X_raw = data['avg'][lp].to_numpy()"
   ]
  },
  {
   "cell_type": "code",
   "execution_count": 5,
   "metadata": {},
   "outputs": [
    {
     "data": {
      "text/plain": [
       "array([25.  , 25.15, 26.6 , 25.1 , 22.8 , 25.1 , 27.1 , 28.55, 28.9 ,\n",
       "       29.15, 28.3 , 28.1 , 26.95, 27.8 , 25.95, 23.25, 26.35, 24.75,\n",
       "       24.5 , 25.05, 26.95, 28.05, 25.15, 25.45, 23.85, 25.35, 22.8 ,\n",
       "       24.05, 27.4 , 28.85, 22.65, 17.7 , 18.95, 21.1 , 21.3 , 24.3 ,\n",
       "       25.55, 23.45, 21.7 , 23.25, 23.65, 23.55, 25.05, 26.25, 26.45,\n",
       "       26.75, 26.75, 25.2 , 20.35, 19.8 , 21.  , 22.3 , 23.3 , 22.9 ,\n",
       "       21.9 , 20.05, 15.05, 13.2 , 16.45, 15.2 , 13.95, 14.85, 17.05,\n",
       "       21.55, 20.  , 19.5 , 18.35, 15.2 , 14.7 , 15.45, 17.85, 13.6 ,\n",
       "       11.55,  9.05, 10.3 , 11.45, 11.05,  9.6 , 10.1 , 11.05, 12.2 ,\n",
       "       12.75, 13.  , 13.6 , 15.  , 13.1 , 15.35])"
      ]
     },
     "execution_count": 5,
     "metadata": {},
     "output_type": "execute_result"
    }
   ],
   "source": [
    "X_raw"
   ]
  },
  {
   "cell_type": "code",
   "execution_count": 6,
   "metadata": {},
   "outputs": [
    {
     "data": {
      "text/plain": [
       "[<matplotlib.lines.Line2D at 0x203e6f0df48>]"
      ]
     },
     "execution_count": 6,
     "metadata": {},
     "output_type": "execute_result"
    },
    {
     "data": {
      "image/png": "[encoded data removed]",
      "text/plain": [
       "<Figure size 864x576 with 1 Axes>"
      ]
     },
     "metadata": {
      "needs_background": "light"
     },
     "output_type": "display_data"
    }
   ],
   "source": [
    "plt.figure(figsize=(12,8))\n",
    "plt.title('Avg. temp. in 2020')\n",
    "plt.xlabel('Days in 2020')\n",
    "plt.ylabel('Avg. temp/day')\n",
    "plt.plot(X_raw)"
   ]
  },
  {
   "cell_type": "code",
   "execution_count": 7,
   "metadata": {},
   "outputs": [
    {
     "data": {
      "text/plain": [
       "(87,)"
      ]
     },
     "execution_count": 7,
     "metadata": {},
     "output_type": "execute_result"
    }
   ],
   "source": [
    "X_raw.shape"
   ]
  },
  {
   "cell_type": "markdown",
   "metadata": {},
   "source": [
    "# Model"
   ]
  },
  {
   "cell_type": "markdown",
   "metadata": {},
   "source": [
    "code from https://github.com/BME-SmartLab-Education/vitmav45/blob/master/07/1D-CNN-regression.ipynb"
   ]
  },
  {
   "cell_type": "code",
   "execution_count": 38,
   "metadata": {},
   "outputs": [],
   "source": [
    "from tensorflow.keras.models import Sequential\n",
    "from tensorflow.keras.layers import Activation, Dense, Flatten, Conv1D, MaxPooling1D, GlobalMaxPooling1D\n",
    "from tensorflow.keras.optimizers import SGD, Adam"
   ]
  },
  {
   "cell_type": "code",
   "execution_count": 39,
   "metadata": {},
   "outputs": [],
   "source": [
    "window_size = 20"
   ]
  },
  {
   "cell_type": "code",
   "execution_count": 40,
   "metadata": {},
   "outputs": [
    {
     "name": "stdout",
     "output_type": "stream",
     "text": [
      "(67, 20, 1)\n",
      "(67,)\n"
     ]
    }
   ],
   "source": [
    "#creating the timeseries data\n",
    "\n",
    "def make_timeseries_instances(timeseries, window_size):\n",
    "    timeseries = np.asarray(timeseries)\n",
    "    assert 0 < window_size < timeseries.shape[0] , \"Out of range 0 < {} < {} \".format(window_size,timeseries.shape[0])\n",
    "    X = np.atleast_3d(np.array([timeseries[start:start + window_size] for start in range(0, timeseries.shape[0] - window_size)]))\n",
    "    Y = timeseries[window_size:]\n",
    "    return X, Y\n",
    "\n",
    "X,Y = make_timeseries_instances(X_raw, 20)\n",
    "print(X.shape)\n",
    "print(Y.shape)"
   ]
  },
  {
   "cell_type": "code",
   "execution_count": 41,
   "metadata": {},
   "outputs": [
    {
     "data": {
      "text/plain": [
       "67"
      ]
     },
     "execution_count": 41,
     "metadata": {},
     "output_type": "execute_result"
    }
   ],
   "source": [
    "valid_split = 0.15\n",
    "test_split = 0.15\n",
    "nb_samples = X.shape[0]\n",
    "nb_samples"
   ]
  },
  {
   "cell_type": "code",
   "execution_count": 42,
   "metadata": {},
   "outputs": [],
   "source": [
    "valid_size = int(nb_samples*(1-test_split-valid_split))\n",
    "test_size = int(nb_samples*(1-test_split))\n",
    "X_train, Y_train = X[:valid_size], Y[:valid_size]\n",
    "X_valid, Y_valid = X[valid_size:test_size], Y[valid_size:test_size]\n",
    "X_test, Y_test   = X[test_size:], Y[test_size:]"
   ]
  },
  {
   "cell_type": "code",
   "execution_count": 43,
   "metadata": {},
   "outputs": [],
   "source": [
    "model = Sequential()\n",
    "model.add(Conv1D(64,4,activation='relu',input_shape=(window_size,1)))\n",
    "model.add(MaxPooling1D())\n",
    "#model.add(Conv1D(32,4,activation='relu'))\n",
    "#model.add(MaxPooling1D())\n",
    "#model.add(GlobalMaxPooling1D())\n",
    "model.add(Flatten())\n",
    "#model.add(Dense(12, activation='relu'))\n",
    "model.add(Dense(1,activation='linear'))"
   ]
  },
  {
   "cell_type": "code",
   "execution_count": 44,
   "metadata": {},
   "outputs": [],
   "source": [
    "model.compile(loss='mse',optimizer=Adam(),metrics=['mae'])"
   ]
  },
  {
   "cell_type": "code",
   "execution_count": 45,
   "metadata": {},
   "outputs": [
    {
     "name": "stdout",
     "output_type": "stream",
     "text": [
      "Model: \"sequential_2\"\n",
      "_________________________________________________________________\n",
      "Layer (type)                 Output Shape              Param #   \n",
      "=================================================================\n",
      "conv1d_2 (Conv1D)            (None, 17, 64)            320       \n",
      "_________________________________________________________________\n",
      "max_pooling1d_2 (MaxPooling1 (None, 8, 64)             0         \n",
      "_________________________________________________________________\n",
      "flatten_2 (Flatten)          (None, 512)               0         \n",
      "_________________________________________________________________\n",
      "dense_2 (Dense)              (None, 1)                 513       \n",
      "=================================================================\n",
      "Total params: 833\n",
      "Trainable params: 833\n",
      "Non-trainable params: 0\n",
      "_________________________________________________________________\n"
     ]
    }
   ],
   "source": [
    "model.summary()"
   ]
  },
  {
   "cell_type": "code",
   "execution_count": 46,
   "metadata": {},
   "outputs": [
    {
     "name": "stdout",
     "output_type": "stream",
     "text": [
      "Train on 46 samples, validate on 10 samples\n",
      "Epoch 1/150\n",
      "46/46 - 0s - loss: 602.2569 - mean_absolute_error: 24.1904 - val_loss: 183.0841 - val_mean_absolute_error: 13.1477\n",
      "Epoch 2/150\n",
      "46/46 - 0s - loss: 442.8176 - mean_absolute_error: 20.6664 - val_loss: 119.8509 - val_mean_absolute_error: 10.5077\n",
      "Epoch 3/150\n",
      "46/46 - 0s - loss: 310.1337 - mean_absolute_error: 17.1692 - val_loss: 71.2928 - val_mean_absolute_error: 7.9121\n",
      "Epoch 4/150\n",
      "46/46 - 0s - loss: 201.2890 - mean_absolute_error: 13.7389 - val_loss: 37.0332 - val_mean_absolute_error: 5.3867\n",
      "Epoch 5/150\n",
      "46/46 - 0s - loss: 121.3157 - mean_absolute_error: 10.3725 - val_loss: 16.0666 - val_mean_absolute_error: 3.2199\n",
      "Epoch 6/150\n",
      "46/46 - 0s - loss: 64.3229 - mean_absolute_error: 7.2272 - val_loss: 7.2858 - val_mean_absolute_error: 2.2115\n",
      "Epoch 7/150\n",
      "46/46 - 0s - loss: 30.7769 - mean_absolute_error: 4.9766 - val_loss: 8.7614 - val_mean_absolute_error: 2.5186\n",
      "Epoch 8/150\n",
      "46/46 - 0s - loss: 13.6295 - mean_absolute_error: 3.0798 - val_loss: 17.4921 - val_mean_absolute_error: 3.6036\n",
      "Epoch 9/150\n",
      "46/46 - 0s - loss: 14.5452 - mean_absolute_error: 2.8615 - val_loss: 29.6862 - val_mean_absolute_error: 4.8822\n",
      "Epoch 10/150\n",
      "46/46 - 0s - loss: 21.3818 - mean_absolute_error: 3.5929 - val_loss: 40.9183 - val_mean_absolute_error: 5.9366\n",
      "Epoch 11/150\n",
      "46/46 - 0s - loss: 30.9672 - mean_absolute_error: 4.4867 - val_loss: 48.1615 - val_mean_absolute_error: 6.5254\n",
      "Epoch 12/150\n",
      "46/46 - 0s - loss: 36.9873 - mean_absolute_error: 5.0442 - val_loss: 50.0398 - val_mean_absolute_error: 6.6696\n",
      "Epoch 13/150\n",
      "46/46 - 0s - loss: 38.1386 - mean_absolute_error: 5.1362 - val_loss: 47.3278 - val_mean_absolute_error: 6.4600\n",
      "Epoch 14/150\n",
      "46/46 - 0s - loss: 34.6811 - mean_absolute_error: 4.8348 - val_loss: 41.4245 - val_mean_absolute_error: 5.9782\n",
      "Epoch 15/150\n",
      "46/46 - 0s - loss: 28.5910 - mean_absolute_error: 4.3061 - val_loss: 34.0905 - val_mean_absolute_error: 5.3183\n",
      "Epoch 16/150\n",
      "46/46 - 0s - loss: 22.2004 - mean_absolute_error: 3.6816 - val_loss: 26.8823 - val_mean_absolute_error: 4.5757\n",
      "Epoch 17/150\n",
      "46/46 - 0s - loss: 17.0331 - mean_absolute_error: 3.1415 - val_loss: 20.8016 - val_mean_absolute_error: 3.9606\n",
      "Epoch 18/150\n",
      "46/46 - 0s - loss: 13.5488 - mean_absolute_error: 2.7044 - val_loss: 16.2089 - val_mean_absolute_error: 3.4787\n",
      "Epoch 19/150\n",
      "46/46 - 0s - loss: 12.4310 - mean_absolute_error: 2.7564 - val_loss: 12.9902 - val_mean_absolute_error: 3.1382\n",
      "Epoch 20/150\n",
      "46/46 - 0s - loss: 12.7880 - mean_absolute_error: 2.8685 - val_loss: 10.9695 - val_mean_absolute_error: 2.8760\n",
      "Epoch 21/150\n",
      "46/46 - 0s - loss: 13.5361 - mean_absolute_error: 3.0218 - val_loss: 9.8695 - val_mean_absolute_error: 2.7055\n",
      "Epoch 22/150\n",
      "46/46 - 0s - loss: 14.2459 - mean_absolute_error: 3.1598 - val_loss: 9.3690 - val_mean_absolute_error: 2.6175\n",
      "Epoch 23/150\n",
      "46/46 - 0s - loss: 14.8235 - mean_absolute_error: 3.2586 - val_loss: 9.2286 - val_mean_absolute_error: 2.5908\n",
      "Epoch 24/150\n",
      "46/46 - 0s - loss: 15.0059 - mean_absolute_error: 3.2875 - val_loss: 9.4040 - val_mean_absolute_error: 2.6224\n",
      "Epoch 25/150\n",
      "46/46 - 0s - loss: 14.7371 - mean_absolute_error: 3.2360 - val_loss: 9.9748 - val_mean_absolute_error: 2.7201\n",
      "Epoch 26/150\n",
      "46/46 - 0s - loss: 14.1102 - mean_absolute_error: 3.1250 - val_loss: 10.7571 - val_mean_absolute_error: 2.8412\n",
      "Epoch 27/150\n",
      "46/46 - 0s - loss: 13.5438 - mean_absolute_error: 3.0192 - val_loss: 11.6719 - val_mean_absolute_error: 2.9687\n",
      "Epoch 28/150\n",
      "46/46 - 0s - loss: 12.8366 - mean_absolute_error: 2.8868 - val_loss: 12.6090 - val_mean_absolute_error: 3.0874\n",
      "Epoch 29/150\n",
      "46/46 - 0s - loss: 12.4597 - mean_absolute_error: 2.8158 - val_loss: 13.6597 - val_mean_absolute_error: 3.2098\n",
      "Epoch 30/150\n",
      "46/46 - 0s - loss: 12.2792 - mean_absolute_error: 2.7597 - val_loss: 14.7653 - val_mean_absolute_error: 3.3290\n",
      "Epoch 31/150\n",
      "46/46 - 0s - loss: 12.2875 - mean_absolute_error: 2.7200 - val_loss: 15.7779 - val_mean_absolute_error: 3.4311\n",
      "Epoch 32/150\n",
      "46/46 - 0s - loss: 12.5031 - mean_absolute_error: 2.7249 - val_loss: 16.4736 - val_mean_absolute_error: 3.4980\n",
      "Epoch 33/150\n",
      "46/46 - 0s - loss: 12.4661 - mean_absolute_error: 2.7063 - val_loss: 16.5887 - val_mean_absolute_error: 3.5087\n",
      "Epoch 34/150\n",
      "46/46 - 0s - loss: 12.4350 - mean_absolute_error: 2.7015 - val_loss: 16.3296 - val_mean_absolute_error: 3.4840\n",
      "Epoch 35/150\n",
      "46/46 - 0s - loss: 12.3738 - mean_absolute_error: 2.7039 - val_loss: 15.9757 - val_mean_absolute_error: 3.4498\n",
      "Epoch 36/150\n",
      "46/46 - 0s - loss: 12.3212 - mean_absolute_error: 2.7100 - val_loss: 15.5563 - val_mean_absolute_error: 3.4084\n",
      "Epoch 37/150\n",
      "46/46 - 0s - loss: 12.2616 - mean_absolute_error: 2.7150 - val_loss: 15.1587 - val_mean_absolute_error: 3.3682\n",
      "Epoch 38/150\n",
      "46/46 - 0s - loss: 12.2351 - mean_absolute_error: 2.7227 - val_loss: 14.8035 - val_mean_absolute_error: 3.3313\n",
      "Epoch 39/150\n",
      "46/46 - 0s - loss: 12.2588 - mean_absolute_error: 2.7390 - val_loss: 14.5768 - val_mean_absolute_error: 3.3073\n",
      "Epoch 40/150\n",
      "46/46 - 0s - loss: 12.2077 - mean_absolute_error: 2.7337 - val_loss: 14.5531 - val_mean_absolute_error: 3.3046\n",
      "Epoch 41/150\n",
      "46/46 - 0s - loss: 12.2108 - mean_absolute_error: 2.7368 - val_loss: 14.4989 - val_mean_absolute_error: 3.2986\n",
      "Epoch 42/150\n",
      "46/46 - 0s - loss: 12.1944 - mean_absolute_error: 2.7357 - val_loss: 14.5961 - val_mean_absolute_error: 3.3088\n",
      "Epoch 43/150\n",
      "46/46 - 0s - loss: 12.1895 - mean_absolute_error: 2.7312 - val_loss: 14.7747 - val_mean_absolute_error: 3.3274\n",
      "Epoch 44/150\n",
      "46/46 - 0s - loss: 12.1845 - mean_absolute_error: 2.7260 - val_loss: 14.8633 - val_mean_absolute_error: 3.3365\n",
      "Epoch 45/150\n",
      "46/46 - 0s - loss: 12.1683 - mean_absolute_error: 2.7251 - val_loss: 14.8284 - val_mean_absolute_error: 3.3327\n",
      "Epoch 46/150\n",
      "46/46 - 0s - loss: 12.1589 - mean_absolute_error: 2.7253 - val_loss: 14.7315 - val_mean_absolute_error: 3.3223\n",
      "Epoch 47/150\n",
      "46/46 - 0s - loss: 12.1598 - mean_absolute_error: 2.7290 - val_loss: 14.6740 - val_mean_absolute_error: 3.3160\n",
      "Epoch 48/150\n",
      "46/46 - 0s - loss: 12.1459 - mean_absolute_error: 2.7291 - val_loss: 14.7259 - val_mean_absolute_error: 3.3213\n",
      "Epoch 49/150\n",
      "46/46 - 0s - loss: 12.1545 - mean_absolute_error: 2.7282 - val_loss: 14.7678 - val_mean_absolute_error: 3.3255\n",
      "Epoch 50/150\n",
      "46/46 - 0s - loss: 12.1321 - mean_absolute_error: 2.7274 - val_loss: 14.6702 - val_mean_absolute_error: 3.3150\n",
      "Epoch 51/150\n",
      "46/46 - 0s - loss: 12.1233 - mean_absolute_error: 2.7286 - val_loss: 14.6360 - val_mean_absolute_error: 3.3112\n",
      "Epoch 52/150\n",
      "46/46 - 0s - loss: 12.1214 - mean_absolute_error: 2.7309 - val_loss: 14.6592 - val_mean_absolute_error: 3.3134\n",
      "Epoch 53/150\n",
      "46/46 - 0s - loss: 12.1204 - mean_absolute_error: 2.7286 - val_loss: 14.7721 - val_mean_absolute_error: 3.3250\n",
      "Epoch 54/150\n",
      "46/46 - 0s - loss: 12.0984 - mean_absolute_error: 2.7249 - val_loss: 14.7786 - val_mean_absolute_error: 3.3254\n",
      "Epoch 55/150\n",
      "46/46 - 0s - loss: 12.0942 - mean_absolute_error: 2.7255 - val_loss: 14.7993 - val_mean_absolute_error: 3.3273\n",
      "Epoch 56/150\n",
      "46/46 - 0s - loss: 12.0805 - mean_absolute_error: 2.7234 - val_loss: 14.9179 - val_mean_absolute_error: 3.3395\n",
      "Epoch 57/150\n",
      "46/46 - 0s - loss: 12.0763 - mean_absolute_error: 2.7220 - val_loss: 15.0525 - val_mean_absolute_error: 3.3532\n",
      "Epoch 58/150\n",
      "46/46 - 0s - loss: 12.0662 - mean_absolute_error: 2.7183 - val_loss: 15.1416 - val_mean_absolute_error: 3.3622\n",
      "Epoch 59/150\n",
      "46/46 - 0s - loss: 12.0584 - mean_absolute_error: 2.7162 - val_loss: 15.2722 - val_mean_absolute_error: 3.3753\n",
      "Epoch 60/150\n",
      "46/46 - 0s - loss: 12.0543 - mean_absolute_error: 2.7133 - val_loss: 15.3529 - val_mean_absolute_error: 3.3834\n",
      "Epoch 61/150\n",
      "46/46 - 0s - loss: 12.0586 - mean_absolute_error: 2.7105 - val_loss: 15.3814 - val_mean_absolute_error: 3.3860\n",
      "Epoch 62/150\n",
      "46/46 - 0s - loss: 12.0421 - mean_absolute_error: 2.7131 - val_loss: 15.2410 - val_mean_absolute_error: 3.3714\n",
      "Epoch 63/150\n",
      "46/46 - 0s - loss: 12.0363 - mean_absolute_error: 2.7140 - val_loss: 15.1261 - val_mean_absolute_error: 3.3593\n",
      "Epoch 64/150\n",
      "46/46 - 0s - loss: 12.0230 - mean_absolute_error: 2.7162 - val_loss: 15.1192 - val_mean_absolute_error: 3.3584\n",
      "Epoch 65/150\n",
      "46/46 - 0s - loss: 12.0160 - mean_absolute_error: 2.7153 - val_loss: 15.2281 - val_mean_absolute_error: 3.3694\n",
      "Epoch 66/150\n",
      "46/46 - 0s - loss: 12.0018 - mean_absolute_error: 2.7138 - val_loss: 15.4629 - val_mean_absolute_error: 3.3931\n",
      "Epoch 67/150\n",
      "46/46 - 0s - loss: 12.0018 - mean_absolute_error: 2.7058 - val_loss: 15.6107 - val_mean_absolute_error: 3.4079\n",
      "Epoch 68/150\n",
      "46/46 - 0s - loss: 12.0046 - mean_absolute_error: 2.7049 - val_loss: 15.6463 - val_mean_absolute_error: 3.4112\n",
      "Epoch 69/150\n",
      "46/46 - 0s - loss: 11.9919 - mean_absolute_error: 2.7041 - val_loss: 15.5297 - val_mean_absolute_error: 3.3991\n",
      "Epoch 70/150\n",
      "46/46 - 0s - loss: 11.9774 - mean_absolute_error: 2.7045 - val_loss: 15.3507 - val_mean_absolute_error: 3.3806\n",
      "Epoch 71/150\n",
      "46/46 - 0s - loss: 11.9588 - mean_absolute_error: 2.7090 - val_loss: 15.1495 - val_mean_absolute_error: 3.3596\n",
      "Epoch 72/150\n",
      "46/46 - 0s - loss: 11.9459 - mean_absolute_error: 2.7119 - val_loss: 14.8555 - val_mean_absolute_error: 3.3285\n",
      "Epoch 73/150\n",
      "46/46 - 0s - loss: 11.9362 - mean_absolute_error: 2.7198 - val_loss: 14.6099 - val_mean_absolute_error: 3.3020\n",
      "Epoch 74/150\n",
      "46/46 - 0s - loss: 11.9538 - mean_absolute_error: 2.7294 - val_loss: 14.3776 - val_mean_absolute_error: 3.2765\n",
      "Epoch 75/150\n",
      "46/46 - 0s - loss: 11.9566 - mean_absolute_error: 2.7361 - val_loss: 14.3092 - val_mean_absolute_error: 3.2686\n",
      "Epoch 76/150\n",
      "46/46 - 0s - loss: 11.9651 - mean_absolute_error: 2.7398 - val_loss: 14.2973 - val_mean_absolute_error: 3.2668\n",
      "Epoch 77/150\n",
      "46/46 - 0s - loss: 11.9479 - mean_absolute_error: 2.7397 - val_loss: 14.2394 - val_mean_absolute_error: 3.2600\n",
      "Epoch 78/150\n",
      "46/46 - 0s - loss: 11.9500 - mean_absolute_error: 2.7432 - val_loss: 14.2777 - val_mean_absolute_error: 3.2637\n",
      "Epoch 79/150\n",
      "46/46 - 0s - loss: 11.9364 - mean_absolute_error: 2.7395 - val_loss: 14.4657 - val_mean_absolute_error: 3.2837\n",
      "Epoch 80/150\n",
      "46/46 - 0s - loss: 11.9118 - mean_absolute_error: 2.7317 - val_loss: 14.6880 - val_mean_absolute_error: 3.3072\n",
      "Epoch 81/150\n",
      "46/46 - 0s - loss: 11.8825 - mean_absolute_error: 2.7202 - val_loss: 14.9050 - val_mean_absolute_error: 3.3298\n",
      "Epoch 82/150\n",
      "46/46 - 0s - loss: 11.8818 - mean_absolute_error: 2.7140 - val_loss: 15.1097 - val_mean_absolute_error: 3.3508\n",
      "Epoch 83/150\n",
      "46/46 - 0s - loss: 11.8563 - mean_absolute_error: 2.7085 - val_loss: 15.1643 - val_mean_absolute_error: 3.3560\n",
      "Epoch 84/150\n",
      "46/46 - 0s - loss: 11.8459 - mean_absolute_error: 2.7081 - val_loss: 15.1303 - val_mean_absolute_error: 3.3519\n",
      "Epoch 85/150\n",
      "46/46 - 0s - loss: 11.8374 - mean_absolute_error: 2.7095 - val_loss: 15.0103 - val_mean_absolute_error: 3.3389\n",
      "Epoch 86/150\n",
      "46/46 - 0s - loss: 11.8688 - mean_absolute_error: 2.7187 - val_loss: 15.0551 - val_mean_absolute_error: 3.3430\n",
      "Epoch 87/150\n",
      "46/46 - 0s - loss: 11.8145 - mean_absolute_error: 2.7110 - val_loss: 15.4219 - val_mean_absolute_error: 3.3805\n",
      "Epoch 88/150\n",
      "46/46 - 0s - loss: 11.8337 - mean_absolute_error: 2.7019 - val_loss: 15.6790 - val_mean_absolute_error: 3.4061\n",
      "Epoch 89/150\n",
      "46/46 - 0s - loss: 11.8071 - mean_absolute_error: 2.6971 - val_loss: 15.6994 - val_mean_absolute_error: 3.4078\n",
      "Epoch 90/150\n",
      "46/46 - 0s - loss: 11.7975 - mean_absolute_error: 2.6955 - val_loss: 15.7162 - val_mean_absolute_error: 3.4090\n",
      "Epoch 91/150\n",
      "46/46 - 0s - loss: 11.7866 - mean_absolute_error: 2.6961 - val_loss: 15.6002 - val_mean_absolute_error: 3.3969\n",
      "Epoch 92/150\n",
      "46/46 - 0s - loss: 11.7705 - mean_absolute_error: 2.6970 - val_loss: 15.4148 - val_mean_absolute_error: 3.3775\n",
      "Epoch 93/150\n",
      "46/46 - 0s - loss: 11.7537 - mean_absolute_error: 2.6995 - val_loss: 15.1305 - val_mean_absolute_error: 3.3477\n",
      "Epoch 94/150\n",
      "46/46 - 0s - loss: 11.7434 - mean_absolute_error: 2.7050 - val_loss: 14.8081 - val_mean_absolute_error: 3.3131\n",
      "Epoch 95/150\n",
      "46/46 - 0s - loss: 11.7620 - mean_absolute_error: 2.7204 - val_loss: 14.4834 - val_mean_absolute_error: 3.2776\n",
      "Epoch 96/150\n",
      "46/46 - 0s - loss: 11.8058 - mean_absolute_error: 2.7336 - val_loss: 14.3806 - val_mean_absolute_error: 3.2658\n",
      "Epoch 97/150\n",
      "46/46 - 0s - loss: 11.8194 - mean_absolute_error: 2.7397 - val_loss: 14.6788 - val_mean_absolute_error: 3.2978\n",
      "Epoch 98/150\n",
      "46/46 - 0s - loss: 11.7367 - mean_absolute_error: 2.7179 - val_loss: 15.4449 - val_mean_absolute_error: 3.3781\n",
      "Epoch 99/150\n",
      "46/46 - 0s - loss: 11.6992 - mean_absolute_error: 2.6956 - val_loss: 16.1245 - val_mean_absolute_error: 3.4461\n",
      "Epoch 100/150\n",
      "46/46 - 0s - loss: 11.7390 - mean_absolute_error: 2.6846 - val_loss: 16.6134 - val_mean_absolute_error: 3.4934\n",
      "Epoch 101/150\n",
      "46/46 - 0s - loss: 11.7711 - mean_absolute_error: 2.6796 - val_loss: 16.7678 - val_mean_absolute_error: 3.5078\n",
      "Epoch 102/150\n",
      "46/46 - 0s - loss: 11.7787 - mean_absolute_error: 2.6787 - val_loss: 16.6434 - val_mean_absolute_error: 3.4956\n",
      "Epoch 103/150\n",
      "46/46 - 0s - loss: 11.8004 - mean_absolute_error: 2.6816 - val_loss: 16.3452 - val_mean_absolute_error: 3.4663\n",
      "Epoch 104/150\n",
      "46/46 - 0s - loss: 11.7432 - mean_absolute_error: 2.6947 - val_loss: 15.5154 - val_mean_absolute_error: 3.3829\n",
      "Epoch 105/150\n",
      "46/46 - 0s - loss: 11.6425 - mean_absolute_error: 2.6982 - val_loss: 14.9735 - val_mean_absolute_error: 3.3258\n",
      "Epoch 106/150\n",
      "46/46 - 0s - loss: 11.7035 - mean_absolute_error: 2.7154 - val_loss: 14.5921 - val_mean_absolute_error: 3.2843\n",
      "Epoch 107/150\n",
      "46/46 - 0s - loss: 11.6885 - mean_absolute_error: 2.7252 - val_loss: 14.5740 - val_mean_absolute_error: 3.2819\n",
      "Epoch 108/150\n",
      "46/46 - 0s - loss: 11.6882 - mean_absolute_error: 2.7257 - val_loss: 14.6593 - val_mean_absolute_error: 3.2906\n",
      "Epoch 109/150\n",
      "46/46 - 0s - loss: 11.6683 - mean_absolute_error: 2.7228 - val_loss: 14.7607 - val_mean_absolute_error: 3.3011\n",
      "Epoch 110/150\n",
      "46/46 - 0s - loss: 11.6464 - mean_absolute_error: 2.7172 - val_loss: 14.9352 - val_mean_absolute_error: 3.3192\n",
      "Epoch 111/150\n",
      "46/46 - 0s - loss: 11.6390 - mean_absolute_error: 2.7101 - val_loss: 15.2714 - val_mean_absolute_error: 3.3542\n",
      "Epoch 112/150\n",
      "46/46 - 0s - loss: 11.5938 - mean_absolute_error: 2.6969 - val_loss: 15.5235 - val_mean_absolute_error: 3.3798\n",
      "Epoch 113/150\n",
      "46/46 - 0s - loss: 11.6439 - mean_absolute_error: 2.6989 - val_loss: 15.7995 - val_mean_absolute_error: 3.4074\n",
      "Epoch 114/150\n",
      "46/46 - 0s - loss: 11.5798 - mean_absolute_error: 2.6877 - val_loss: 15.7234 - val_mean_absolute_error: 3.3991\n",
      "Epoch 115/150\n",
      "46/46 - 0s - loss: 11.5662 - mean_absolute_error: 2.6883 - val_loss: 15.6878 - val_mean_absolute_error: 3.3950\n",
      "Epoch 116/150\n",
      "46/46 - 0s - loss: 11.5561 - mean_absolute_error: 2.6891 - val_loss: 15.6173 - val_mean_absolute_error: 3.3872\n",
      "Epoch 117/150\n",
      "46/46 - 0s - loss: 11.5649 - mean_absolute_error: 2.6908 - val_loss: 15.5144 - val_mean_absolute_error: 3.3761\n",
      "Epoch 118/150\n",
      "46/46 - 0s - loss: 11.5457 - mean_absolute_error: 2.6938 - val_loss: 15.2087 - val_mean_absolute_error: 3.3436\n",
      "Epoch 119/150\n",
      "46/46 - 0s - loss: 11.5460 - mean_absolute_error: 2.6992 - val_loss: 15.0345 - val_mean_absolute_error: 3.3246\n",
      "Epoch 120/150\n",
      "46/46 - 0s - loss: 11.5495 - mean_absolute_error: 2.7111 - val_loss: 14.7884 - val_mean_absolute_error: 3.2976\n",
      "Epoch 121/150\n",
      "46/46 - 0s - loss: 11.5667 - mean_absolute_error: 2.7179 - val_loss: 14.7869 - val_mean_absolute_error: 3.2969\n",
      "Epoch 122/150\n",
      "46/46 - 0s - loss: 11.5482 - mean_absolute_error: 2.7153 - val_loss: 15.0533 - val_mean_absolute_error: 3.3250\n",
      "Epoch 123/150\n",
      "46/46 - 0s - loss: 11.5289 - mean_absolute_error: 2.7062 - val_loss: 15.5046 - val_mean_absolute_error: 3.3719\n",
      "Epoch 124/150\n",
      "46/46 - 0s - loss: 11.4791 - mean_absolute_error: 2.6882 - val_loss: 15.9141 - val_mean_absolute_error: 3.4133\n",
      "Epoch 125/150\n",
      "46/46 - 0s - loss: 11.5160 - mean_absolute_error: 2.6813 - val_loss: 16.4713 - val_mean_absolute_error: 3.4683\n",
      "Epoch 126/150\n",
      "46/46 - 0s - loss: 11.4917 - mean_absolute_error: 2.6709 - val_loss: 16.6878 - val_mean_absolute_error: 3.4888\n",
      "Epoch 127/150\n",
      "46/46 - 0s - loss: 11.5145 - mean_absolute_error: 2.6700 - val_loss: 16.8717 - val_mean_absolute_error: 3.5059\n",
      "Epoch 128/150\n",
      "46/46 - 0s - loss: 11.5042 - mean_absolute_error: 2.6667 - val_loss: 16.6853 - val_mean_absolute_error: 3.4873\n",
      "Epoch 129/150\n",
      "46/46 - 0s - loss: 11.5228 - mean_absolute_error: 2.6745 - val_loss: 16.3789 - val_mean_absolute_error: 3.4566\n",
      "Epoch 130/150\n",
      "46/46 - 0s - loss: 11.4434 - mean_absolute_error: 2.6706 - val_loss: 16.2756 - val_mean_absolute_error: 3.4457\n",
      "Epoch 131/150\n",
      "46/46 - 0s - loss: 11.4935 - mean_absolute_error: 2.6815 - val_loss: 16.1061 - val_mean_absolute_error: 3.4281\n",
      "Epoch 132/150\n",
      "46/46 - 0s - loss: 11.4138 - mean_absolute_error: 2.6755 - val_loss: 16.3236 - val_mean_absolute_error: 3.4492\n",
      "Epoch 133/150\n",
      "46/46 - 0s - loss: 11.4032 - mean_absolute_error: 2.6696 - val_loss: 16.6705 - val_mean_absolute_error: 3.4828\n",
      "Epoch 134/150\n",
      "46/46 - 0s - loss: 11.4120 - mean_absolute_error: 2.6662 - val_loss: 17.0751 - val_mean_absolute_error: 3.5212\n",
      "Epoch 135/150\n",
      "46/46 - 0s - loss: 11.4736 - mean_absolute_error: 2.6617 - val_loss: 17.3372 - val_mean_absolute_error: 3.5486\n",
      "Epoch 136/150\n",
      "46/46 - 0s - loss: 11.4702 - mean_absolute_error: 2.6592 - val_loss: 17.0898 - val_mean_absolute_error: 3.5214\n",
      "Epoch 137/150\n",
      "46/46 - 0s - loss: 11.4439 - mean_absolute_error: 2.6647 - val_loss: 16.5177 - val_mean_absolute_error: 3.4651\n",
      "Epoch 138/150\n",
      "46/46 - 0s - loss: 11.3606 - mean_absolute_error: 2.6650 - val_loss: 16.0553 - val_mean_absolute_error: 3.4182\n",
      "Epoch 139/150\n",
      "46/46 - 0s - loss: 11.3303 - mean_absolute_error: 2.6717 - val_loss: 15.6149 - val_mean_absolute_error: 3.3721\n",
      "Epoch 140/150\n",
      "46/46 - 0s - loss: 11.3271 - mean_absolute_error: 2.6845 - val_loss: 15.2109 - val_mean_absolute_error: 3.3285\n",
      "Epoch 141/150\n",
      "46/46 - 0s - loss: 11.3516 - mean_absolute_error: 2.6969 - val_loss: 14.8879 - val_mean_absolute_error: 3.2925\n",
      "Epoch 142/150\n",
      "46/46 - 0s - loss: 11.3869 - mean_absolute_error: 2.7124 - val_loss: 14.7356 - val_mean_absolute_error: 3.2747\n",
      "Epoch 143/150\n",
      "46/46 - 0s - loss: 11.4047 - mean_absolute_error: 2.7213 - val_loss: 14.7755 - val_mean_absolute_error: 3.2782\n",
      "Epoch 144/150\n",
      "46/46 - 0s - loss: 11.3814 - mean_absolute_error: 2.7174 - val_loss: 15.0879 - val_mean_absolute_error: 3.3113\n",
      "Epoch 145/150\n",
      "46/46 - 0s - loss: 11.3384 - mean_absolute_error: 2.6952 - val_loss: 15.6570 - val_mean_absolute_error: 3.3708\n",
      "Epoch 146/150\n",
      "46/46 - 0s - loss: 11.2699 - mean_absolute_error: 2.6791 - val_loss: 16.2107 - val_mean_absolute_error: 3.4267\n",
      "Epoch 147/150\n",
      "46/46 - 0s - loss: 11.2771 - mean_absolute_error: 2.6701 - val_loss: 16.7109 - val_mean_absolute_error: 3.4757\n",
      "Epoch 148/150\n",
      "46/46 - 0s - loss: 11.2670 - mean_absolute_error: 2.6593 - val_loss: 16.9691 - val_mean_absolute_error: 3.5001\n",
      "Epoch 149/150\n",
      "46/46 - 0s - loss: 11.2707 - mean_absolute_error: 2.6533 - val_loss: 17.2747 - val_mean_absolute_error: 3.5326\n",
      "Epoch 150/150\n",
      "46/46 - 0s - loss: 11.3053 - mean_absolute_error: 2.6537 - val_loss: 17.3552 - val_mean_absolute_error: 3.5423\n"
     ]
    },
    {
     "data": {
      "text/plain": [
       "<tensorflow.python.keras.callbacks.History at 0x203f13b93c8>"
      ]
     },
     "execution_count": 46,
     "metadata": {},
     "output_type": "execute_result"
    }
   ],
   "source": [
    "model.fit(X_train,Y_train,epochs=150, validation_data=(X_valid,Y_valid), verbose = 2)"
   ]
  },
  {
   "cell_type": "code",
   "execution_count": 47,
   "metadata": {},
   "outputs": [
    {
     "name": "stdout",
     "output_type": "stream",
     "text": [
      "11/11 [==============================] - 0s 181us/sample - loss: 8.9572 - mean_absolute_error: 2.5720\n"
     ]
    },
    {
     "data": {
      "text/plain": [
       "[8.957208633422852, 2.571955]"
      ]
     },
     "execution_count": 47,
     "metadata": {},
     "output_type": "execute_result"
    }
   ],
   "source": [
    "model.evaluate(X_test, Y_test)"
   ]
  },
  {
   "cell_type": "code",
   "execution_count": 48,
   "metadata": {},
   "outputs": [],
   "source": [
    "preds = model.predict(X_test)\n",
    "targets = Y_test.tolist()"
   ]
  },
  {
   "cell_type": "code",
   "execution_count": 49,
   "metadata": {},
   "outputs": [
    {
     "data": {
      "text/plain": [
       "<matplotlib.legend.Legend at 0x203ed73a488>"
      ]
     },
     "execution_count": 49,
     "metadata": {},
     "output_type": "execute_result"
    },
    {
     "data": {
      "image/png": "[encoded data removed]",
      "text/plain": [
       "<Figure size 864x576 with 1 Axes>"
      ]
     },
     "metadata": {
      "needs_background": "light"
     },
     "output_type": "display_data"
    }
   ],
   "source": [
    "plt.figure(figsize=(12,8))\n",
    "plt.plot(preds, color='r', label=\"Predictions\")\n",
    "plt.plot(targets, color='g', label=\"Targets\")\n",
    "plt.xlabel('Days in testdata')\n",
    "plt.ylabel('Avg Temp')\n",
    "plt.legend()"
   ]
  },
  {
   "cell_type": "markdown",
   "metadata": {},
   "source": [
    "# Predicting"
   ]
  },
  {
   "cell_type": "code",
   "execution_count": 50,
   "metadata": {},
   "outputs": [],
   "source": [
    "# Now we have to predict 28.10., 03.11 and 24.10.\n",
    "# Our first data (on 0th index) is from 01.09. and our last data (on 86th index) is from 26.10.\n",
    "# So we have to predict whole november\n",
    "# on 87th index is 27.10. \n",
    "# on 88th index is 28.10.\n",
    "# ...\n",
    "# on 94th index is 03.11.\n",
    "# on 115th index is 24.11.\n",
    "# on 121st index is 30.11. and this is the last\n",
    "# so we need plus 35 value (from 27.10. to 30.11.)"
   ]
  },
  {
   "cell_type": "code",
   "execution_count": 51,
   "metadata": {},
   "outputs": [],
   "source": [
    "# now we have to create prediction with new data"
   ]
  },
  {
   "cell_type": "code",
   "execution_count": 52,
   "metadata": {},
   "outputs": [],
   "source": [
    "# we predicting 27.10. temp, and we go further every iterations\n",
    "# in the first iteration we predict 27.10., saving it, and next time we compute with this data (updating)\n",
    "# in the second iteration (with data from first iteration) we predict 28.10. and saving it and update data again with this value\n",
    "# ...\n",
    "temp = []\n",
    "temp_copy = X_test.copy()\n",
    "\n",
    "for i in range(35):\n",
    "    # predict\n",
    "    pred_nov = model.predict(temp_copy)\n",
    "    # deleting the first row\n",
    "    temp_copy = np.delete(temp_copy, 0, axis=0)\n",
    "    # store the last prediction, what is in the last row\n",
    "    temp_new = temp_copy[-1].copy()\n",
    "    # deleting the first element\n",
    "    temp_new = np.delete(temp_new, 0)\n",
    "    # we add a predicted value\n",
    "    temp_new = np.insert(temp_new,len(temp_new),pred_nov[-1])\n",
    "    temp.append(pred_nov[-1])\n",
    "    temp_new = temp_new.reshape(1,20,-1)\n",
    "    temp_copy = np.concatenate((temp_copy, temp_new))"
   ]
  },
  {
   "cell_type": "code",
   "execution_count": 53,
   "metadata": {},
   "outputs": [
    {
     "data": {
      "text/plain": [
       "[array([11.666451], dtype=float32),\n",
       " array([12.094148], dtype=float32),\n",
       " array([12.124734], dtype=float32),\n",
       " array([11.743255], dtype=float32),\n",
       " array([11.415187], dtype=float32),\n",
       " array([11.103425], dtype=float32),\n",
       " array([11.432084], dtype=float32),\n",
       " array([11.320577], dtype=float32),\n",
       " array([11.176853], dtype=float32),\n",
       " array([11.005633], dtype=float32),\n",
       " array([10.997781], dtype=float32),\n",
       " array([11.058196], dtype=float32),\n",
       " array([11.116285], dtype=float32),\n",
       " array([11.210084], dtype=float32),\n",
       " array([10.969548], dtype=float32),\n",
       " array([11.16989], dtype=float32),\n",
       " array([10.932438], dtype=float32),\n",
       " array([10.701525], dtype=float32),\n",
       " array([10.327661], dtype=float32),\n",
       " array([10.366082], dtype=float32),\n",
       " array([10.300951], dtype=float32),\n",
       " array([10.22354], dtype=float32),\n",
       " array([10.092293], dtype=float32),\n",
       " array([10.011195], dtype=float32),\n",
       " array([9.97233], dtype=float32),\n",
       " array([9.864327], dtype=float32),\n",
       " array([9.783513], dtype=float32),\n",
       " array([9.681964], dtype=float32),\n",
       " array([9.602853], dtype=float32),\n",
       " array([9.545385], dtype=float32),\n",
       " array([9.516447], dtype=float32),\n",
       " array([9.414162], dtype=float32),\n",
       " array([9.348647], dtype=float32),\n",
       " array([9.273366], dtype=float32),\n",
       " array([9.185498], dtype=float32)]"
      ]
     },
     "execution_count": 53,
     "metadata": {},
     "output_type": "execute_result"
    }
   ],
   "source": [
    "temp"
   ]
  },
  {
   "cell_type": "code",
   "execution_count": 54,
   "metadata": {},
   "outputs": [
    {
     "data": {
      "text/plain": [
       "<matplotlib.legend.Legend at 0x203f15edf08>"
      ]
     },
     "execution_count": 54,
     "metadata": {},
     "output_type": "execute_result"
    },
    {
     "data": {
      "image/png": "[encoded data removed]",
      "text/plain": [
       "<Figure size 864x576 with 1 Axes>"
      ]
     },
     "metadata": {
      "needs_background": "light"
     },
     "output_type": "display_data"
    }
   ],
   "source": [
    "plt.figure(figsize=(12,8))\n",
    "plt.plot(temp, color='r', label='Predictions')\n",
    "plt.xlabel('Days in testdata')\n",
    "plt.ylabel('Avg Temp')\n",
    "plt.legend()"
   ]
  },
  {
   "cell_type": "code",
   "execution_count": 55,
   "metadata": {},
   "outputs": [
    {
     "name": "stdout",
     "output_type": "stream",
     "text": [
      "The avg. temp on 28.10. is: 12.094148\n",
      "The avg. temp on 03.11. is: 11.320577\n",
      "The avg. temp on 24.11. is: 9.602853 \n",
      "\n",
      "The avg. temp from 02.11 to 09.11. is: 11.158200945172991 \n",
      "\n",
      "The avg. temp in November is: 10.356817817687988 \n",
      "\n"
     ]
    }
   ],
   "source": [
    "print(\"The avg. temp on 28.10. is:\", temp[1][0])\n",
    "print(\"The avg. temp on 03.11. is:\", temp[7][0])\n",
    "print(\"The avg. temp on 24.11. is:\", temp[28][0], \"\\n\")\n",
    "avg_week1 = (temp[6][0]+temp[7][0]+temp[8][0]+temp[9][0]+temp[10][0]+temp[11][0]+temp[12][0])/7\n",
    "print('The avg. temp from 02.11 to 09.11. is:', avg_week1, \"\\n\")\n",
    "avg_month = 0\n",
    "for i in range(5,35):\n",
    "    avg_month += temp[i][0]\n",
    "avg_month= avg_month/30\n",
    "\n",
    "print('The avg. temp in November is:', avg_month, \"\\n\")\n"
   ]
  },
  {
   "cell_type": "code",
   "execution_count": null,
   "metadata": {},
   "outputs": [],
   "source": []
  }
 ],
 "metadata": {
  "kernelspec": {
   "display_name": "Python 3",
   "language": "python",
   "name": "python3"
  },
  "language_info": {
   "codemirror_mode": {
    "name": "ipython",
    "version": 3
   },
   "file_extension": ".py",
   "mimetype": "text/x-python",
   "name": "python",
   "nbconvert_exporter": "python",
   "pygments_lexer": "ipython3",
   "version": "3.7.6"
  }
 },
 "nbformat": 4,
 "nbformat_minor": 4
}
